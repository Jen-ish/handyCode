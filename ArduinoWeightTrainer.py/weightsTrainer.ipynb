{
 "cells": [
  {
   "cell_type": "code",
   "execution_count": 23,
   "metadata": {},
   "outputs": [],
   "source": [
    "import keras\n",
    "from keras.layers import Dense\n",
    "from keras.models import Sequential\n",
    "from keras import optimizers\n",
    "from keras import backend as K\n",
    "import numpy as np\n",
    "\n",
    "from matplotlib import pyplot as plt\n",
    "from IPython.display import clear_output"
   ]
  },
  {
   "cell_type": "code",
   "execution_count": 24,
   "metadata": {},
   "outputs": [],
   "source": [
    "\n",
    "x_train = [\n",
    "    [0,0,0,0,0,0,0,0,0],\n",
    "    [1,1,1,1,1,1,1,1,1]\n",
    "]\n",
    "\n",
    "y_train = [\n",
    "    [0,0,0,0,0,0,0,0,0],\n",
    "    [1,1,1,1,1,1,1,1,1]\n",
    "]\n",
    "\n",
    "x_train = np.array(x_train, dtype = np.float32)\n",
    "y_train = np.array(y_train)"
   ]
  },
  {
   "cell_type": "code",
   "execution_count": 25,
   "metadata": {},
   "outputs": [],
   "source": [
    "model = Sequential()\n",
    "\n",
    "IN = x_train.shape[1]\n",
    "\n",
    "HIDDEN = IN + 1\n",
    "OUT = y_train.shape[1]\n",
    "\n",
    "model.add(Dense(units=HIDDEN, activation='sigmoid', input_dim=IN))\n",
    "model.add(Dense(units=OUT, activation='linear')) #if possible use linear\n",
    "\n",
    "model.compile(loss = 'mean_squared_error', optimizer=optimizers.SGD(lr=0.4))"
   ]
  },
  {
   "cell_type": "code",
   "execution_count": 26,
   "metadata": {},
   "outputs": [],
   "source": [
    "class PlotLosses(keras.callbacks.Callback):\n",
    "    def on_train_begin(self, logs={}):\n",
    "        self.i = 0\n",
    "        self.x = []\n",
    "        self.losses = []\n",
    "        self.val_losses = []\n",
    "        \n",
    "        self.fig = plt.figure()\n",
    "        \n",
    "        self.logs = []\n",
    "\n",
    "    def on_epoch_end(self, epoch, logs={}):\n",
    "        \n",
    "        self.logs.append(logs)\n",
    "        self.x.append(self.i)\n",
    "        self.losses.append(logs.get('loss'))\n",
    "        self.val_losses.append(logs.get('val_loss'))\n",
    "        self.i += 1\n",
    "        \n",
    "        clear_output(wait=True)\n",
    "        plt.plot(self.x, self.losses, label=\"loss\")\n",
    "        plt.plot(self.x, self.val_losses, label=\"val_loss\")\n",
    "        plt.legend()\n",
    "        plt.show();\n",
    "        \n",
    "plot_losses = PlotLosses()"
   ]
  },
  {
   "cell_type": "code",
   "execution_count": 27,
   "metadata": {},
   "outputs": [
    {
     "data": {
      "image/png": "[encoded data removed]",
      "text/plain": [
       "<Figure size 432x288 with 1 Axes>"
      ]
     },
     "metadata": {
      "needs_background": "light"
     },
     "output_type": "display_data"
    },
    {
     "data": {
      "text/plain": [
       "<keras.callbacks.History at 0x7f4c6c4d0a60>"
      ]
     },
     "execution_count": 27,
     "metadata": {},
     "output_type": "execute_result"
    }
   ],
   "source": [
    "model.fit(x_train, y_train, epochs=100, batch_size=1, verbose=False, callbacks=[plot_losses])"
   ]
  },
  {
   "cell_type": "code",
   "execution_count": 28,
   "metadata": {},
   "outputs": [
    {
     "name": "stdout",
     "output_type": "stream",
     "text": [
      "1/1 [==============================] - 0s 33ms/step\n",
      "model:\t [ 0.001 -0.     0.    -0.    -0.001  0.     0.001 -0.    -0.   ]\n",
      "label:\t [0 0 0 0 0 0 0 0 0]\n",
      " \n",
      "model:\t [0.999 1.    1.    1.    1.001 1.    0.999 1.    1.   ]\n",
      "label:\t [1 1 1 1 1 1 1 1 1]\n",
      " \n"
     ]
    }
   ],
   "source": [
    "predictions = model.predict(x_train).tolist()\n",
    "for i, prediction in enumerate(predictions):\n",
    "    print('model:\\t', np.round(prediction,3))\n",
    "    print('label:\\t', y_train[i])\n",
    "    print(' ')"
   ]
  },
  {
   "cell_type": "code",
   "execution_count": 29,
   "metadata": {},
   "outputs": [],
   "source": [
    "def to_str(name, W):\n",
    "    s = str(W.tolist()).replace('[', '{').replace(']', '}')\n",
    "    return 'float '+name+'['+str(W.shape[0])+']['+str(W.shape[1])+'] = ' + s + ';'"
   ]
  },
  {
   "cell_type": "code",
   "execution_count": 30,
   "metadata": {},
   "outputs": [
    {
     "name": "stdout",
     "output_type": "stream",
     "text": [
      "// replace these two lines in arduino code:\n",
      "// float HiddenWeights[InputNodes+1][HiddenNodes]\n",
      "// float OutputWeights[HiddenNodes+1][OutputNodes]\n",
      "// With trained weights below.\n",
      "\n",
      "\n",
      "// You also have to disable the initial weight randomization\n",
      "// you can find it under this section in the arduino code:\n",
      "//* Initialize HiddenWeights and ChangeHiddenWeights \n",
      "\n",
      "\n",
      "float HiddenWeights[10][10] = {{-0.14004746079444885, -0.0341973640024662, 0.46974337100982666, 0.5358598828315735, 0.3270781636238098, 0.015218441374599934, -0.3996405601501465, 0.45910143852233887, 0.42852136492729187, -0.21932046115398407}, {-0.09146388620138168, -0.05158422514796257, 0.1604357361793518, 0.40996894240379333, -0.46762263774871826, 0.21628166735172272, -0.4508122205734253, 0.10921329259872437, 0.6199372410774231, 0.1858755648136139}, {-0.3137611448764801, -0.5920679569244385, 0.42592519521713257, 0.42010030150413513, -0.13474123179912567, -0.08814888447523117, -0.6996347308158875, -0.16631576418876648, 0.3817422091960907, 0.4883474111557007}, {-0.15622201561927795, 0.3251950442790985, -0.09320999681949615, 0.26863548159599304, -0.03824631869792938, 0.5467292666435242, 0.3470534384250641, 0.47236940264701843, 0.5187270641326904, 0.06639143079519272}, {-0.4730384647846222, -0.01663080044090748, 0.42703360319137573, -0.2870514690876007, -0.19132646918296814, 0.5177885890007019, 0.31754687428474426, 0.0444720983505249, -0.09301332384347916, 0.4972207546234131}, {-0.23115000128746033, -0.35549792647361755, 0.3024226427078247, 0.22559767961502075, 0.10722213983535767, 0.15354838967323303, 0.15564627945423126, 0.24799282848834991, -0.16624347865581512, 0.029666904360055923}, {-0.29768186807632446, -0.08137736469507217, -0.4094178080558777, 0.4156472384929657, -0.5303547382354736, 0.636762797832489, -0.27385982871055603, -0.2521095871925354, 0.6276982426643372, 0.16029831767082214}, {0.07719225436449051, -0.5302117466926575, 0.5274298787117004, 0.16013862192630768, 0.14621439576148987, -0.12378913164138794, -0.6821419596672058, -0.5977811813354492, 0.512808084487915, -0.4014384150505066}, {-0.5509043335914612, -0.32851898670196533, 0.5244812369346619, 0.3760868012905121, -0.3096378445625305, 0.5149139165878296, -0.3331369459629059, 0.19986164569854736, -0.027979306876659393, 0.050546709448099136}, {0.05462450534105301, 0.0024669012054800987, -0.17267876863479614, -0.2183215171098709, 0.03166962414979935, -0.2189970165491104, 0.05929502844810486, -0.07648807764053345, -0.3025897145271301, -0.11896917223930359}};\n",
      "float OutputWeights[11][9] = {{0.058223750442266464, -0.5230046510696411, -0.0206752922385931, -0.4214234948158264, 0.13474762439727783, -0.8103290796279907, -0.15461397171020508, -0.6935494542121887, -0.29091423749923706}, {-0.5385140180587769, -0.14978449046611786, 0.10209909826517105, -0.4830637574195862, -0.4570513367652893, 0.27970343828201294, -0.38363125920295715, -0.22908858954906464, -0.3377079665660858}, {0.45500433444976807, 0.051985811442136765, 0.0500774011015892, 0.10561955720186234, 0.2553754448890686, 0.21708182990550995, -0.030131611973047256, 0.26175668835639954, 0.6597111821174622}, {0.38707321882247925, 0.5238921642303467, 0.2942592203617096, 0.5350378155708313, 0.05195122957229614, 0.6467967629432678, -0.07492432743310928, -0.10601941496133804, 0.4949643909931183}, {0.06042734161019325, 0.10697153955698013, -0.7043190598487854, -0.05102056264877319, -0.4342730641365051, 0.1971772164106369, -0.5557236671447754, 0.05109725147485733, -0.47787076234817505}, {0.2359830141067505, 0.5425509810447693, 0.5056074261665344, 0.3619750738143921, 0.5376541018486023, 0.42907747626304626, 0.6847953796386719, 0.6032000780105591, 0.1319372057914734}, {-0.10994210839271545, -0.4762532114982605, -0.5557016134262085, -0.47929099202156067, -0.418182909488678, -0.4988037645816803, -0.31108078360557556, -0.23312896490097046, -0.007427017204463482}, {-0.5391412377357483, -0.1952516734600067, 0.45674261450767517, -0.09627746790647507, 0.08087325096130371, -0.2240244746208191, 0.5669741630554199, 0.043571554124355316, 0.11844240874052048}, {0.8105676770210266, 0.29097723960876465, 0.20605872571468353, 0.1201530173420906, 0.5428004264831543, 0.11983415484428406, 0.24009528756141663, 0.3832971453666687, 0.21253399550914764}, {-0.057365283370018005, -0.2645089328289032, 0.4085399806499481, -0.20413488149642944, -0.15925057232379913, -0.007512636017054319, 0.4370444715023041, 0.12663255631923676, -0.2741537094116211}, {-0.2772826850414276, 0.1300738900899887, -0.27524182200431824, 0.37406957149505615, 0.020711513236165047, -0.084919273853302, -0.12354038655757904, -0.01963127963244915, -0.034190576523542404}};\n"
     ]
    }
   ],
   "source": [
    "# output weights as strings you can copy into arduino sketch\n",
    "W1 = np.vstack((K.eval(model.weights[0]), K.eval(model.weights[1])))\n",
    "W2 = np.vstack((K.eval(model.weights[2]), K.eval(model.weights[3])))\n",
    "\n",
    "print('// replace these two lines in arduino code:')\n",
    "print('// float HiddenWeights[InputNodes+1][HiddenNodes]')\n",
    "print('// float OutputWeights[HiddenNodes+1][OutputNodes]')\n",
    "print('// With trained weights below.')\n",
    "print('\\n')\n",
    "print('// You also have to disable the initial weight randomization')\n",
    "print('// you can find it under this section in the arduino code:')\n",
    "print('//* Initialize HiddenWeights and ChangeHiddenWeights ')\n",
    "print('\\n')\n",
    "print(to_str('HiddenWeights', W1))\n",
    "print(to_str('OutputWeights', W2))"
   ]
  },
  {
   "cell_type": "code",
   "execution_count": null,
   "metadata": {},
   "outputs": [],
   "source": []
  }
 ],
 "metadata": {
  "kernelspec": {
   "display_name": "Python 3 (ipykernel)",
   "language": "python",
   "name": "python3"
  },
  "language_info": {
   "codemirror_mode": {
    "name": "ipython",
    "version": 3
   },
   "file_extension": ".py",
   "mimetype": "text/x-python",
   "name": "python",
   "nbconvert_exporter": "python",
   "pygments_lexer": "ipython3",
   "version": "3.10.8"
  }
 },
 "nbformat": 4,
 "nbformat_minor": 2
}
